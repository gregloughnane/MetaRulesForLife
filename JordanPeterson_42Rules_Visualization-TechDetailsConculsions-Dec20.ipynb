{
 "cells": [
  {
   "cell_type": "markdown",
   "metadata": {},
   "source": [
    "## JBP 42 Rules for Life NLP Analysis"
   ]
  },
  {
   "cell_type": "markdown",
   "metadata": {},
   "source": [
    "#### By: Greg Loughnane, Dr. Jordan B. Peterson Fellow, Acton School of Business, 2020\n",
    "##### Created in February, 2020, and posted to GitHub in December, 2020"
   ]
  },
  {
   "cell_type": "markdown",
   "metadata": {},
   "source": [
    "### 0) Imports & Definitions\n",
    "    0.1 Packages, Libraries, and Utils\n",
    "    0.2 Global Variable Definitions\n",
    "### 1) Import Rules For Life and Create Corpus\n",
    "    1.1 Create DataFrame and meta.tsv Projector Visualization File\n",
    "    1.2 Create Corpus of Text from Filtered Rules For Life\n",
    "### 2) Create Word Embedding Vectors from Corpus\n",
    "    2.1 Define Custom Vocabulary of Most Important Words\n",
    "    2.2 Analyze Vocabulary for the Most Frequent Words\n",
    "    2.3 Create Vector Embeddings File for Projector Visualization "
   ]
  },
  {
   "cell_type": "markdown",
   "metadata": {},
   "source": [
    "## 0) Imports & Definitions"
   ]
  },
  {
   "cell_type": "markdown",
   "metadata": {},
   "source": [
    "#### 0.1 Packages, Libraries, and Utils"
   ]
  },
  {
   "cell_type": "code",
   "execution_count": 1,
   "metadata": {},
   "outputs": [],
   "source": [
    "# Data Read/Write/Manipulation packages\n",
    "import pandas as pd\n",
    "import numpy as  np\n",
    "\n",
    "# Visualizations and Dimensional Reduction\n",
    "import seaborn as sns\n",
    "import matplotlib.pyplot as plt\n",
    "\n",
    "# Machine learning modeling and stats\n",
    "from sklearn import preprocessing\n",
    "from sklearn.feature_extraction.text import CountVectorizer\n",
    "\n",
    "# Utils\n",
    "from utils_final import normalize_corpus"
   ]
  },
  {
   "cell_type": "markdown",
   "metadata": {},
   "source": [
    "#### 0.2 Global Variable Definitions"
   ]
  },
  {
   "cell_type": "code",
   "execution_count": 2,
   "metadata": {},
   "outputs": [
    {
     "name": "stdout",
     "output_type": "stream",
     "text": [
      "[\"Tell the truth, or at least don't lie.\", 'Do not do things that you hate.', 'Act so that you can tell the truth about how you act.', 'Pursue what is meaningful, not what is expedient.', 'If you have to choose, be the one who does things, instead of the one who is seen to do things.', 'Pay attention.', 'Assume that the person you are listening to might know something you need to know. Listen to them hard enough so that they will share it with you.', 'Plan and work diligently to maintain the romance in your relationships.', 'Be careful who you share good news with.', 'Be careful who you share bad news with.', 'Make at least one thing better every single place you go.', 'Imagine who you could be, and then aim single-mindedly at that.', 'Do not allow yourself to become arrogant or resentful.', 'Try to make one room in your house as beautiful as possible.', 'Compare yourself to who you were yesterday, not to who someone else is today.', 'Work as hard as you possibly can on at least one thing and see what happens.', 'If old memories still make you cry, write them down carefully and completely.', 'Maintain your connections with people.', 'Do not carelessly denigrate social institutions or artistic achievement.', 'Treat yourself as if you were someone that you are responsible for helping.', 'Ask someone to do you a small favour, so that he or she can ask you to do one in the future.', 'Make friends with people who want the best for you.', 'Do not try to rescue someone who does not want to be rescued, and be very careful about rescuing someone who does.', 'Nothing well done is insignificant.', 'Set your house in perfect order before you criticize the world.Dress like the person you want to be.', 'Be precise in your speech.', 'Stand up straight with your shoulders back.', \"Don't avoid something frightening if it stands in your way -- and don't do unnecessarily dangerous things.\", 'Do not let your children do anything that makes you dislike them.', 'Do not transform your wife into a maid.', 'Do not hide unwanted things in the fog.', 'Notice that opportunity lurks where responsibility has been abdicated.', 'Read something written by someone great.', 'Pet a cat when you encounter one on the street.', 'Do not bother children when they are skateboarding.', \"Don't let bullies get away with it.\", 'Write a letter to the government if you see something that needs fixing -- and propose a solution.', 'Remember that what you do not yet know is more important than what you already know.', 'Be grateful in spite of your suffering.']\n"
     ]
    }
   ],
   "source": [
    "# Outlier thresholds (in # of design hours)\n",
    "rules = [\"Tell the truth, or at least don't lie.\", \n",
    "         'Do not do things that you hate.', \n",
    "         'Act so that you can tell the truth about how you act.',\n",
    "         'Pursue what is meaningful, not what is expedient.',\n",
    "         'If you have to choose, be the one who does things, instead of the one who is seen to do things.',\n",
    "         'Pay attention.',\n",
    "         'Assume that the person you are listening to might know something you need to know. Listen to them hard enough so that they will share it with you.',\n",
    "         'Plan and work diligently to maintain the romance in your relationships.',\n",
    "         'Be careful who you share good news with.',\n",
    "         'Be careful who you share bad news with.',\n",
    "         'Make at least one thing better every single place you go.',\n",
    "         'Imagine who you could be, and then aim single-mindedly at that.',\n",
    "         'Do not allow yourself to become arrogant or resentful.',\n",
    "         'Try to make one room in your house as beautiful as possible.',\n",
    "         'Compare yourself to who you were yesterday, not to who someone else is today.',\n",
    "         'Work as hard as you possibly can on at least one thing and see what happens.',\n",
    "         'If old memories still make you cry, write them down carefully and completely.',\n",
    "         'Maintain your connections with people.',\n",
    "         'Do not carelessly denigrate social institutions or artistic achievement.',\n",
    "         'Treat yourself as if you were someone that you are responsible for helping.',\n",
    "         'Ask someone to do you a small favour, so that he or she can ask you to do one in the future.',\n",
    "         'Make friends with people who want the best for you.',\n",
    "         'Do not try to rescue someone who does not want to be rescued, and be very careful about rescuing someone who does.',\n",
    "         'Nothing well done is insignificant.',\n",
    "         'Set your house in perfect order before you criticize the world.'\n",
    "         'Dress like the person you want to be.',\n",
    "         'Be precise in your speech.',\n",
    "         'Stand up straight with your shoulders back.',\n",
    "         \"Don't avoid something frightening if it stands in your way -- and don't do unnecessarily dangerous things.\",\n",
    "         'Do not let your children do anything that makes you dislike them.',\n",
    "         'Do not transform your wife into a maid.',\n",
    "         'Do not hide unwanted things in the fog.',\n",
    "         'Notice that opportunity lurks where responsibility has been abdicated.',\n",
    "         'Read something written by someone great.',\n",
    "         'Pet a cat when you encounter one on the street.',\n",
    "         'Do not bother children when they are skateboarding.',\n",
    "         \"Don't let bullies get away with it.\",\n",
    "         'Write a letter to the government if you see something that needs fixing -- and propose a solution.',\n",
    "         'Remember that what you do not yet know is more important than what you already know.',\n",
    "         'Be grateful in spite of your suffering.']\n",
    "\n",
    "print(rules)"
   ]
  },
  {
   "cell_type": "markdown",
   "metadata": {},
   "source": [
    "## 1) Import Rules For Life and Create Corpus"
   ]
  },
  {
   "cell_type": "markdown",
   "metadata": {},
   "source": [
    "#### 1.1 Create DataFrame and meta.tsv Projector Visualization File"
   ]
  },
  {
   "cell_type": "code",
   "execution_count": 3,
   "metadata": {
    "scrolled": true
   },
   "outputs": [
    {
     "name": "stdout",
     "output_type": "stream",
     "text": [
      "39\n"
     ]
    }
   ],
   "source": [
    "df = pd.DataFrame(rules)\n",
    "\n",
    "# Check how many total quote request entries we have\n",
    "print(df.shape[0])\n",
    "\n",
    "df = df.rename(columns={0: \"Rules\"})\n",
    "df.to_csv('meta.tsv', index=None, header=False)"
   ]
  },
  {
   "cell_type": "markdown",
   "metadata": {},
   "source": [
    "#### 1.2 Create Corpus of Text from Filtered Rules For Life"
   ]
  },
  {
   "cell_type": "code",
   "execution_count": 4,
   "metadata": {
    "scrolled": false
   },
   "outputs": [],
   "source": [
    "corpus = [] # Create an empty list call corpus\n",
    "\n",
    "for index, r in df.iterrows():\n",
    "    rules     = r['Rules'] \n",
    "    textforfile = str(rules)\n",
    "    norm_data = normalize_corpus(textforfile, \n",
    "                                 html_stripping=True, \n",
    "                                 contraction_expansion=True,\n",
    "                                 accented_char_removal=True, \n",
    "                                 text_lower_case=True,\n",
    "                                 text_lemmatization=True, \n",
    "                                 special_char_removal=True,\n",
    "                                 stopword_removal=True, \n",
    "                                 number_removal=True, \n",
    "                                 weird_chars=True)\n",
    "\n",
    "    corpus.append(norm_data) \n",
    "\n",
    "corpus = pd.DataFrame(corpus)"
   ]
  },
  {
   "cell_type": "markdown",
   "metadata": {},
   "source": [
    "## 2) Create Word Embeddings from Corpus"
   ]
  },
  {
   "cell_type": "markdown",
   "metadata": {},
   "source": [
    "#### 2.1 Define Custom Vocabulary of Most Important Words"
   ]
  },
  {
   "cell_type": "code",
   "execution_count": 5,
   "metadata": {},
   "outputs": [
    {
     "name": "stdout",
     "output_type": "stream",
     "text": [
      "{'tell': 128, 'truth': 133, 'least': 66, 'not': 82, 'lie': 69, 'thing': 129, 'hate': 56, 'act': 2, 'pursue': 100, 'meaningful': 77, 'expedient': 41, 'choose': 25, 'one': 86, 'instead': 63, 'see': 110, 'pay': 89, 'attention': 11, 'assume': 10, 'person': 92, 'listen': 71, 'may': 76, 'know': 65, 'something': 120, 'need': 80, 'hard': 55, 'enough': 39, 'share': 112, 'plan': 95, 'work': 141, 'diligently': 34, 'maintain': 74, 'romance': 108, 'relationship': 102, 'careful': 20, 'good': 50, 'news': 81, 'bad': 15, 'make': 75, 'well': 139, 'every': 40, 'single': 114, 'place': 94, 'go': 49, 'imagine': 60, 'could': 29, 'aim': 3, 'mindedly': 79, 'allow': 4, 'become': 17, 'arrogant': 7, 'resentful': 105, 'try': 134, 'room': 109, 'house': 59, 'beautiful': 16, 'possible': 96, 'compare': 26, 'yesterday': 144, 'someone': 119, 'else': 37, 'today': 130, 'possibly': 97, 'happen': 54, 'old': 85, 'memory': 78, 'still': 124, 'cry': 31, 'write': 143, 'carefully': 21, 'completely': 27, 'connection': 28, 'people': 90, 'carelessly': 22, 'denigrate': 33, 'social': 117, 'institution': 64, 'artistic': 8, 'achievement': 1, 'treat': 132, 'responsible': 107, 'help': 57, 'ask': 9, 'small': 116, 'favour': 42, 'future': 47, 'friend': 45, 'want': 137, 'rescue': 104, 'nothing': 83, 'insignificant': 62, 'set': 111, 'perfect': 91, 'order': 88, 'criticize': 30, 'world': 142, 'dress': 36, 'like': 70, 'precise': 98, 'speech': 121, 'stand': 123, 'straight': 125, 'shoulder': 113, 'back': 14, 'avoid': 12, 'frightening': 46, 'way': 138, 'unnecessarily': 135, 'dangerous': 32, 'let': 67, 'child': 24, 'anything': 6, 'dislike': 35, 'transform': 131, 'wife': 140, 'maid': 73, 'hide': 58, 'unwanted': 136, 'fog': 44, 'notice': 84, 'opportunity': 87, 'lurk': 72, 'responsibility': 106, 'abdicate': 0, 'read': 101, 'great': 53, 'pet': 93, 'cat': 23, 'encounter': 38, 'street': 126, 'bother': 18, 'skateboard': 115, 'bully': 19, 'get': 48, 'away': 13, 'letter': 68, 'government': 51, 'fix': 43, 'propose': 99, 'solution': 118, 'remember': 103, 'yet': 145, 'important': 61, 'already': 5, 'grateful': 52, 'spite': 122, 'suffering': 127}\n"
     ]
    }
   ],
   "source": [
    "#%% Tokenize words using CountVectorizer\n",
    "X = corpus.iloc[:,0]\n",
    "\n",
    "# Initialize Vectorizer\n",
    "vectorizer = CountVectorizer()\n",
    "\n",
    "# Fit Vectorizer to corpus\n",
    "model = vectorizer.fit(X)                                           \n",
    "\n",
    "# Transform corpus\n",
    "bag_of_words = vectorizer.transform(X)   \n",
    "\n",
    "# Print Vocabulary\n",
    "vocab = vectorizer.vocabulary_\n",
    "print(vocab)"
   ]
  },
  {
   "cell_type": "markdown",
   "metadata": {},
   "source": [
    "#### 2.2 Analyze Vocabulary for the Most Frequent Words"
   ]
  },
  {
   "cell_type": "code",
   "execution_count": 6,
   "metadata": {},
   "outputs": [
    {
     "name": "stdout",
     "output_type": "stream",
     "text": [
      "not 16\n",
      "thing 7\n",
      "one 7\n",
      "someone 6\n",
      "make 5\n",
      "know 4\n",
      "something 4\n",
      "least 3\n",
      "see 3\n",
      "share 3\n",
      "careful 3\n",
      "write 3\n",
      "want 3\n",
      "rescue 3\n",
      "tell 2\n",
      "truth 2\n",
      "act 2\n",
      "person 2\n",
      "listen 2\n",
      "need 2\n",
      "hard 2\n",
      "work 2\n",
      "maintain 2\n",
      "good 2\n",
      "news 2\n",
      "well 2\n",
      "single 2\n",
      "try 2\n",
      "house 2\n",
      "people 2\n",
      "ask 2\n",
      "stand 2\n",
      "let 2\n"
     ]
    }
   ],
   "source": [
    "sum_words = bag_of_words.sum(axis=0)\n",
    "words_freq = [(word, sum_words[0, idx]) for word, idx in vectorizer.vocabulary_.items()]\n",
    "words_freq =sorted(words_freq, key = lambda x: x[1], reverse=True)\n",
    "top_words = words_freq[:33]\n",
    "for word, freq in top_words:\n",
    "    print(word, freq)#### 2.1 Define Custom Vocabulary of Most Important Words"
   ]
  },
  {
   "cell_type": "code",
   "execution_count": 7,
   "metadata": {},
   "outputs": [
    {
     "data": {
      "text/plain": [
       "[Text(0, 0, 'not'),\n",
       " Text(1, 0, 'thing'),\n",
       " Text(2, 0, 'one'),\n",
       " Text(3, 0, 'someone'),\n",
       " Text(4, 0, 'make'),\n",
       " Text(5, 0, 'know'),\n",
       " Text(6, 0, 'something'),\n",
       " Text(7, 0, 'least'),\n",
       " Text(8, 0, 'see'),\n",
       " Text(9, 0, 'share'),\n",
       " Text(10, 0, 'careful'),\n",
       " Text(11, 0, 'write'),\n",
       " Text(12, 0, 'want'),\n",
       " Text(13, 0, 'rescue'),\n",
       " Text(14, 0, 'tell'),\n",
       " Text(15, 0, 'truth'),\n",
       " Text(16, 0, 'act'),\n",
       " Text(17, 0, 'person'),\n",
       " Text(18, 0, 'listen'),\n",
       " Text(19, 0, 'need'),\n",
       " Text(20, 0, 'hard'),\n",
       " Text(21, 0, 'work'),\n",
       " Text(22, 0, 'maintain'),\n",
       " Text(23, 0, 'good'),\n",
       " Text(24, 0, 'news'),\n",
       " Text(25, 0, 'well'),\n",
       " Text(26, 0, 'single'),\n",
       " Text(27, 0, 'try'),\n",
       " Text(28, 0, 'house'),\n",
       " Text(29, 0, 'people'),\n",
       " Text(30, 0, 'ask'),\n",
       " Text(31, 0, 'stand'),\n",
       " Text(32, 0, 'let')]"
      ]
     },
     "execution_count": 7,
     "metadata": {},
     "output_type": "execute_result"
    },
    {
     "data": {
      "image/png": "[encoded data removed]",
      "text/plain": [
       "<Figure size 1008x360 with 1 Axes>"
      ]
     },
     "metadata": {
      "needs_background": "light"
     },
     "output_type": "display_data"
    }
   ],
   "source": [
    "plt.figure(figsize = (14, 5))\n",
    "top_words = pd.DataFrame(top_words)\n",
    "top_words.columns = ['word', 'count']\n",
    "top_words_plot = sns.barplot(top_words['word'], top_words['count'])\n",
    "top_words_plot.set_xticklabels(top_words_plot.get_xticklabels(), rotation=75)"
   ]
  },
  {
   "cell_type": "markdown",
   "metadata": {},
   "source": [
    "#### 2.3 Create Vector Embeddings File for Projector Visualization "
   ]
  },
  {
   "cell_type": "code",
   "execution_count": 8,
   "metadata": {},
   "outputs": [],
   "source": [
    "# Create vecs.tsv --> This represents the word embeddings, where each row is a quote.\n",
    "vector_embeddings = bag_of_words.toarray() # numpy array\n",
    "df_v = pd.DataFrame(vector_embeddings)\n",
    "\n",
    "# Write out file\n",
    "df_v.to_csv(r'vecs.tsv', index=None, header=False, sep=\"\\t\",)"
   ]
  }
 ],
 "metadata": {
  "kernelspec": {
   "display_name": "Python 3",
   "language": "python",
   "name": "python3"
  },
  "language_info": {
   "codemirror_mode": {
    "name": "ipython",
    "version": 3
   },
   "file_extension": ".py",
   "mimetype": "text/x-python",
   "name": "python",
   "nbconvert_exporter": "python",
   "pygments_lexer": "ipython3",
   "version": "3.8.5"
  }
 },
 "nbformat": 4,
 "nbformat_minor": 2
}
